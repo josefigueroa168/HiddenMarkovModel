{
 "cells": [
  {
   "cell_type": "markdown",
   "metadata": {},
   "source": [
    "# Simple Hidden Markov Model POS Tagger\n",
    "Author: Jose Figueroa\n",
    "\n",
    "NLP Homework #1\n",
    "\n",
    "Used the spanish data set to train the algorithm and test it in the test data set.\n"
   ]
  },
  {
   "cell_type": "markdown",
   "metadata": {},
   "source": [
    "#### Import libraries and define constants:"
   ]
  },
  {
   "cell_type": "code",
   "execution_count": 2,
   "metadata": {},
   "outputs": [],
   "source": [
    "from conllu import parse\n",
    "from io import open\n",
    "\n",
    "def AMOUNT_OF_TAGS ():\n",
    "    return 18"
   ]
  },
  {
   "cell_type": "markdown",
   "metadata": {},
   "source": [
    "#### Parameters to access training data:"
   ]
  },
  {
   "cell_type": "code",
   "execution_count": 3,
   "metadata": {},
   "outputs": [],
   "source": [
    "def path_name():\n",
    "    return ''\n",
    "def train_file_path():\n",
    "    return path_name() + 'udtb/es-ud-train.conllu'\n",
    "def dev_file_path():\n",
    "    return path_name() + 'udtb/es-ud-dev.conllu'\n",
    "def test_file_path():\n",
    "    return path_name() + 'udtb/es-ud-test.conllu'"
   ]
  },
  {
   "cell_type": "markdown",
   "metadata": {},
   "source": [
    "#### Access and parse training data for access:"
   ]
  },
  {
   "cell_type": "code",
   "execution_count": 5,
   "metadata": {},
   "outputs": [],
   "source": [
    "train_path = train_file_path()\n",
    "train_file = open(train_path,\"r\", encoding=\"utf-8\")\n",
    "train_data = train_file.read()\n",
    "contents = parse(train_data)"
   ]
  },
  {
   "cell_type": "markdown",
   "metadata": {},
   "source": [
    "#### Create structures to calculate hold probabilities:"
   ]
  },
  {
   "cell_type": "code",
   "execution_count": 6,
   "metadata": {},
   "outputs": [],
   "source": [
    "tag_prob_of_word = {}\n",
    "total_count_of_word = {}\n",
    "tag_prob_given_tag = {}\n",
    "total_count_of_tag = {}"
   ]
  },
  {
   "cell_type": "markdown",
   "metadata": {},
   "source": [
    "#### Calculate emision and transition probabilities."
   ]
  },
  {
   "cell_type": "code",
   "execution_count": 7,
   "metadata": {},
   "outputs": [],
   "source": [
    "for tokenList in contents:\n",
    "    for i in range(0, len(tokenList)):\n",
    "        word = tokenList[i]['form'].lower()\n",
    "        tag = tokenList[i]['upostag']\n",
    "        #Check if the word has been tagged prior\n",
    "        if (word in tag_prob_of_word):\n",
    "            if (tag in tag_prob_of_word[word]):\n",
    "                tag_prob_of_word[word][tag] += 1\n",
    "            else:\n",
    "                tag_prob_of_word[word][tag] = 1\n",
    "        else:\n",
    "            tag_prob_of_word[word] = {tag:1}\n",
    "            \n",
    "        #Count the amount of times the word is seen\n",
    "        if (word in total_count_of_word):\n",
    "            total_count_of_word[word] += 1\n",
    "        else:\n",
    "            total_count_of_word[word] = 1\n",
    "        \n",
    "        #Check for start tag\n",
    "        if (i==0):\n",
    "            if ('start' in tag_prob_given_tag):\n",
    "                #check if start has been mapped to the given tag\n",
    "                if (tokenList[i]['upostag'] in tag_prob_given_tag['start']):\n",
    "                    tag_prob_given_tag['start'][tag] += 1\n",
    "                else:\n",
    "                    tag_prob_given_tag['start'][tag] = 1\n",
    "            else:\n",
    "                tag_prob_given_tag['start'] = {tag : 1}\n",
    "            if ('start' in total_count_of_tag):\n",
    "                total_count_of_tag['start'] += 1\n",
    "            else:\n",
    "                total_count_of_tag['start'] = 1\n",
    "            \n",
    "        \n",
    "        else:\n",
    "            #Check the amount of times a tag occurs after a previous tag\n",
    "            prevTag = tokenList[i-1]['upostag']\n",
    "            if (prevTag in tag_prob_given_tag):\n",
    "                if (tag in tag_prob_given_tag[prevTag]):\n",
    "                    tag_prob_given_tag[prevTag][tag] += 1\n",
    "                else:\n",
    "                    tag_prob_given_tag[prevTag][tag] = 1\n",
    "            else:\n",
    "                tag_prob_given_tag[prevTag] = {tag : 1}\n",
    "            #Count the amount of times a tag is seen\n",
    "            if (tag in total_count_of_tag):\n",
    "                total_count_of_tag[tag] += 1\n",
    "            else:\n",
    "                total_count_of_tag[tag] = 1\n",
    "\n",
    "#Calculate and return Transition and Emition probabilities.\n",
    "#Emissions\n",
    "for word in tag_prob_of_word:\n",
    "    for tag in tag_prob_of_word[word]:\n",
    "        tag_prob_of_word[word][tag] /= total_count_of_word[word]\n",
    "#Transitions \n",
    "for prev in tag_prob_given_tag:\n",
    "    for tag in tag_prob_given_tag[prev]:\n",
    "        tag_prob_given_tag[prev][tag] /= total_count_of_tag[prev]\n"
   ]
  },
  {
   "cell_type": "markdown",
   "metadata": {},
   "source": [
    "#### Example emission and transition probabilities:"
   ]
  },
  {
   "cell_type": "code",
   "execution_count": 8,
   "metadata": {},
   "outputs": [
    {
     "name": "stdout",
     "output_type": "stream",
     "text": [
      "{'PROPN': 0.9166666666666666, 'NOUN': 0.08333333333333333} \n",
      "\n",
      "{'DET': 0.49805739440729685, 'VERB': 0.038035050274299244, 'NUM': 0.0681329309166097, '_': 0.006469793733637925, 'ADV': 0.010271631288456087, 'PROPN': 0.16779776892164547, 'NOUN': 0.1971786363408981, 'SCONJ': 0.007403578396224842, 'PRON': 0.02606259692184556, 'ADJ': 0.01674142502209401, 'PUNCT': 0.004652248586816962, 'ADP': 0.0016507978856447282, 'SYM': 0.0013673275416451285, 'X': 0.0024511847392906573, 'AUX': 0.0028513781661136215, 'CCONJ': 0.0012506044588217638, 'PART': 5.002417835287055e-05}\n"
     ]
    }
   ],
   "source": [
    "print(tag_prob_of_word['medina'], '\\n')\n",
    "print(tag_prob_given_tag['ADP'])"
   ]
  },
  {
   "cell_type": "markdown",
   "metadata": {},
   "source": [
    "#### Write probabilities to file:"
   ]
  },
  {
   "cell_type": "code",
   "execution_count": 9,
   "metadata": {},
   "outputs": [
    {
     "data": {
      "text/plain": [
       "\"\\npn = path_name()\\nwith open(pn + 'emissionProb.txt', 'x') as f:\\n    for word in tag_prob_of_word:\\n        print ('{}  |  {}'.format(word, tag_prob_of_word[word]), file = f)\\n\\nwith open(pn + 'transitionProb.txt', 'x') as f:\\n    for prev in tag_prob_given_tag:\\n        print('{}  |  {}'.format(prev, tag_prob_given_tag[prev]), file = f)\\n\""
      ]
     },
     "execution_count": 9,
     "metadata": {},
     "output_type": "execute_result"
    }
   ],
   "source": [
    "\"\"\"\n",
    "pn = path_name()\n",
    "with open(pn + 'emissionProb.txt', 'x') as f:\n",
    "    for word in tag_prob_of_word:\n",
    "        print ('{}  |  {}'.format(word, tag_prob_of_word[word]), file = f)\n",
    "\n",
    "with open(pn + 'transitionProb.txt', 'x') as f:\n",
    "    for prev in tag_prob_given_tag:\n",
    "        print('{}  |  {}'.format(prev, tag_prob_given_tag[prev]), file = f)\n",
    "\"\"\""
   ]
  },
  {
   "cell_type": "markdown",
   "metadata": {},
   "source": [
    "#### Create a list of tags for numeric representation for dynamic programing:"
   ]
  },
  {
   "cell_type": "code",
   "execution_count": 10,
   "metadata": {},
   "outputs": [],
   "source": [
    "tagList = []\n",
    "for key in total_count_of_tag:\n",
    "    if (key == 'start'):\n",
    "        tagList.insert(0, key)\n",
    "    else:\n",
    "        tagList.append(key)"
   ]
  },
  {
   "cell_type": "markdown",
   "metadata": {},
   "source": [
    "#### Define tagSentence function:\n",
    "Input: \n",
    "* A entence in the form of a token list, where each word is it's own dictionary.\n",
    "* The length of the sentence.\n",
    "       \n",
    "Output: \n",
    "* A list of (word, tag) tuples.\n",
    "\n",
    "\n",
    "&emsp; The algorithm uses two matricies. The first calculate probabilities in each iteration given prior probabilities,  transition and emission probabilities. The second tracks the back path of the largest probability."
   ]
  },
  {
   "cell_type": "code",
   "execution_count": 11,
   "metadata": {},
   "outputs": [],
   "source": [
    "def tagSentence (sentence, length):\n",
    "    mat = [[0 for i in range(AMOUNT_OF_TAGS())] for i in range(length+1)]\n",
    "    mapTags = [[[] for i in range(AMOUNT_OF_TAGS())] for i in range(length+1)]\n",
    "    mat[0][0] = 1\n",
    "    mapTags[0][0] = [-1,-1]\n",
    "    for i in range(len(mat)-1):\n",
    "        for j in range(len(mat[0])):\n",
    "            if (mat[i][j] == 0):\n",
    "                continue\n",
    "            for k in range(1, len(mat[0])):\n",
    "                word = sentence[i]['form'].lower()\n",
    "                prevTag = tagList[j]\n",
    "                currTag = tagList[k]\n",
    "                wordProbability = 0\n",
    "                tagProbability = 0\n",
    "                if word not in tag_prob_of_word and currTag == 'NOUN':\n",
    "                    wordProbability = 1\n",
    "                elif word not in tag_prob_of_word:\n",
    "                    wordProbability = 0\n",
    "                elif word in tag_prob_of_word and currTag not in tag_prob_of_word[word]:\n",
    "                    wordProbability = 0\n",
    "                else:\n",
    "                    wordProbability = tag_prob_of_word[word][currTag]\n",
    "                try:\n",
    "                    tagProbability = tag_prob_given_tag[prevTag][currTag]\n",
    "                except:\n",
    "                    tagProbability = 0\n",
    "                probability = mat[i][j] * wordProbability * tagProbability\n",
    "                if probability >=  mat[i+1][k]:\n",
    "                    mat[i+1][k] = probability\n",
    "                    mapTags[i+1][k] = [i, j]\n",
    "    wordIndex = length \n",
    "    tagIndex = 0\n",
    "    taggedSentence = []\n",
    "    maxx = 0\n",
    "    for i in range(AMOUNT_OF_TAGS()):\n",
    "        if maxx<mat[wordIndex][i]:\n",
    "            maxx = mat[wordIndex][i]\n",
    "            tagIndex = i\n",
    "    while wordIndex > 0 and tagIndex >0:\n",
    "        nextIndex = mapTags[wordIndex][tagIndex][0]\n",
    "        couple = (sentence[nextIndex]['form'], tagList[tagIndex])\n",
    "        tagIndex = mapTags[wordIndex][tagIndex][1]\n",
    "        wordIndex = nextIndex\n",
    "        taggedSentence.insert(0, couple)\n",
    "    return taggedSentence"
   ]
  },
  {
   "cell_type": "markdown",
   "metadata": {},
   "source": [
    "#### Open and parse test file:"
   ]
  },
  {
   "cell_type": "code",
   "execution_count": 12,
   "metadata": {},
   "outputs": [],
   "source": [
    "test_path = test_file_path()\n",
    "test_file = open(test_path,\"r\", encoding=\"utf-8\")\n",
    "test_file_contents = test_file.read()\n",
    "test_file_parse = parse(test_file_contents)"
   ]
  },
  {
   "cell_type": "markdown",
   "metadata": {},
   "source": [
    "#### Tag new sentences and tally results, return accuracy:"
   ]
  },
  {
   "cell_type": "code",
   "execution_count": 13,
   "metadata": {},
   "outputs": [
    {
     "name": "stdout",
     "output_type": "stream",
     "text": [
      "90.37254422434174\n"
     ]
    }
   ],
   "source": [
    "correctTag = 0\n",
    "TotalTag = 0\n",
    "\n",
    "for i in range(len(test_file_parse)):\n",
    "    taggedSentence = tagSentence(test_file_parse[i], len(test_file_parse[i]))\n",
    "    for j in range(len(test_file_parse[i])):\n",
    "        if taggedSentence[j][1] == test_file_parse[i][j]['upostag']:\n",
    "            correctTag += 1\n",
    "        TotalTag +=1\n",
    "print((correctTag/TotalTag)*100)"
   ]
  }
 ],
 "metadata": {
  "kernelspec": {
   "display_name": "Python 3",
   "language": "python",
   "name": "python3"
  },
  "language_info": {
   "codemirror_mode": {
    "name": "ipython",
    "version": 3
   },
   "file_extension": ".py",
   "mimetype": "text/x-python",
   "name": "python",
   "nbconvert_exporter": "python",
   "pygments_lexer": "ipython3",
   "version": "3.7.1"
  }
 },
 "nbformat": 4,
 "nbformat_minor": 2
}
